{
  "nbformat": 4,
  "nbformat_minor": 0,
  "metadata": {
    "colab": {
      "provenance": [],
      "authorship_tag": "ABX9TyOSUmGFl2OoIolITjssFyJp",
      "include_colab_link": true
    },
    "kernelspec": {
      "name": "python3",
      "display_name": "Python 3"
    },
    "language_info": {
      "name": "python"
    }
  },
  "cells": [
    {
      "cell_type": "markdown",
      "metadata": {
        "id": "view-in-github",
        "colab_type": "text"
      },
      "source": [
        "<a href=\"https://colab.research.google.com/github/atikareski/DataMiningTeori/blob/main/AnalisisData.ipynb\" target=\"_parent\"><img src=\"https://colab.research.google.com/assets/colab-badge.svg\" alt=\"Open In Colab\"/></a>"
      ]
    },
    {
      "cell_type": "code",
      "execution_count": 1,
      "metadata": {
        "colab": {
          "base_uri": "https://localhost:8080/"
        },
        "id": "5W8NAiS0wlMM",
        "outputId": "0057eef4-762c-436b-d67a-ab1e9550185b"
      },
      "outputs": [
        {
          "output_type": "stream",
          "name": "stdout",
          "text": [
            "   ACT composite score  SAT total score parental level of education  \\\n",
            "0                   22             1625                 high school   \n",
            "1                   29             2090          associate's degree   \n",
            "2                   30             2188           bachelor's degree   \n",
            "3                   33             2151          associate's degree   \n",
            "4                   29             2050          associate's degree   \n",
            "\n",
            "   parental income  high school gpa  college gpa  years to graduate  \\\n",
            "0            40999              3.0          3.1                  7   \n",
            "1            75817              4.0          3.4                  5   \n",
            "2            82888              4.0          3.9                  3   \n",
            "3            93518              4.0          3.7                  5   \n",
            "4            79153              4.0          3.4                  6   \n",
            "\n",
            "   average_test_score score_group  \n",
            "0             26.0625         Low  \n",
            "1             34.2250      Medium  \n",
            "2             35.4700        High  \n",
            "3             38.3775        High  \n",
            "4             34.1250      Medium  \n"
          ]
        }
      ],
      "source": [
        "import pandas as pd\n",
        "\n",
        "file_path = \"graduation_rate.csv\"\n",
        "data = pd.read_csv(file_path)\n",
        "\n",
        "data[\"average_test_score\"] = data[\"ACT composite score\"] + (data[\"SAT total score\"] / 400)\n",
        "\n",
        "summary_stats = data[[\"ACT composite score\", \"SAT total score\", \"average_test_score\",\n",
        "                      \"high school gpa\", \"college gpa\", \"years to graduate\"]].describe()\n",
        "\n",
        "correlations = data[[\"average_test_score\", \"high school gpa\", \"college gpa\", \"years to graduate\"]].corr()\n",
        "\n",
        "data[\"score_group\"] = pd.qcut(data[\"average_test_score\"], q=3, labels=[\"Low\", \"Medium\", \"High\"])\n",
        "grad_years_by_group = data.groupby(\"score_group\", observed=True)[\"years to graduate\"].mean()\n",
        "\n",
        "summary_stats, correlations, grad_years_by_group\n",
        "\n",
        "print(data.head())"
      ]
    }
  ]
}