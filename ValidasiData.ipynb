{
  "nbformat": 4,
  "nbformat_minor": 0,
  "metadata": {
    "colab": {
      "provenance": [],
      "authorship_tag": "ABX9TyNCqrFGhBx64YbXddEAovaI",
      "include_colab_link": true
    },
    "kernelspec": {
      "name": "python3",
      "display_name": "Python 3"
    },
    "language_info": {
      "name": "python"
    }
  },
  "cells": [
    {
      "cell_type": "markdown",
      "metadata": {
        "id": "view-in-github",
        "colab_type": "text"
      },
      "source": [
        "<a href=\"https://colab.research.google.com/github/atikareski/DataMiningTeori/blob/main/ValidasiData.ipynb\" target=\"_parent\"><img src=\"https://colab.research.google.com/assets/colab-badge.svg\" alt=\"Open In Colab\"/></a>"
      ]
    },
    {
      "cell_type": "code",
      "execution_count": null,
      "metadata": {
        "id": "bcffZ0bEyGUN"
      },
      "outputs": [],
      "source": [
        "import pandas as pd\n",
        "\n",
        "data = pd.read_csv(\"graduation_rate.csv\")\n",
        "\n",
        "# 1. Range check\n",
        "invalid_act = data[(data[\"ACT composite score\"] < 1) | (data[\"ACT composite score\"] > 36)]\n",
        "invalid_sat = data[(data[\"SAT total score\"] < 400) | (data[\"SAT total score\"] > 1600)]\n",
        "invalid_hs_gpa = data[(data[\"high school gpa\"] < 0) | (data[\"high school gpa\"] > 4)]\n",
        "invalid_college_gpa = data[(data[\"college gpa\"] < 0) | (data[\"college gpa\"] > 4)]\n",
        "invalid_grad_years = data[(data[\"years to graduate\"] < 3) | (data[\"years to graduate\"] > 8)]\n",
        "\n",
        "# 2. Logical consistency checks\n",
        "# High school GPA < 3 tapi college GPA = 4\n",
        "suspicious_gpa = data[(data[\"high school gpa\"] < 3) & (data[\"college gpa\"] == 4)]\n",
        "\n",
        "# Income terlalu rendah / terlalu tinggi (contoh threshold: <20k atau >120k)\n",
        "extreme_income = data[(data[\"parental income\"] < 20000) | (data[\"parental income\"] > 120000)]\n",
        "\n",
        "# --- OUTPUT ---\n",
        "print(\"ACT di luar range:\\n\", invalid_act)\n",
        "print(\"\\nSAT di luar range:\\n\", invalid_sat)\n",
        "print(\"\\nHS GPA di luar range:\\n\", invalid_hs_gpa)\n",
        "print(\"\\nCollege GPA di luar range:\\n\", invalid_college_gpa)\n",
        "print(\"\\nYears to graduate di luar range (3–8):\\n\", invalid_grad_years)\n",
        "print(\"\\nKasus mencurigakan: HS GPA <3 tapi College GPA = 4:\\n\", suspicious_gpa)\n",
        "print(\"\\nIncome ekstrem:\\n\", extreme_income)\n"
      ]
    }
  ]
}