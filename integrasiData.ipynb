{
  "nbformat": 4,
  "nbformat_minor": 0,
  "metadata": {
    "colab": {
      "provenance": [],
      "authorship_tag": "ABX9TyNrwKBwlzXxXevPl0+MKwMM",
      "include_colab_link": true
    },
    "kernelspec": {
      "name": "python3",
      "display_name": "Python 3"
    },
    "language_info": {
      "name": "python"
    }
  },
  "cells": [
    {
      "cell_type": "markdown",
      "metadata": {
        "id": "view-in-github",
        "colab_type": "text"
      },
      "source": [
        "<a href=\"https://colab.research.google.com/github/atikareski/DataMiningTeori/blob/main/integrasiData.ipynb\" target=\"_parent\"><img src=\"https://colab.research.google.com/assets/colab-badge.svg\" alt=\"Open In Colab\"/></a>"
      ]
    },
    {
      "cell_type": "code",
      "execution_count": 4,
      "metadata": {
        "colab": {
          "base_uri": "https://localhost:8080/"
        },
        "id": "Ez1etLiBij7q",
        "outputId": "255b5263-e846-4cfa-9fe0-47eb7636ffe1"
      },
      "outputs": [
        {
          "output_type": "stream",
          "name": "stdout",
          "text": [
            "   ACT composite score  SAT total score  average_test_score\n",
            "0                   22             1625             26.0625\n",
            "1                   29             2090             34.2250\n",
            "2                   30             2188             35.4700\n",
            "3                   33             2151             38.3775\n",
            "4                   29             2050             34.1250\n",
            "Data baru berhasil dibuat: IntegrasiData.csv\n"
          ]
        }
      ],
      "source": [
        "import pandas as pd\n",
        "\n",
        "data = pd.read_csv(\"graduation_rate.csv\")\n",
        "\n",
        "data[\"average_test_score\"] = data[\"ACT composite score\"] + (data[\"SAT total score\"] / 400)\n",
        "\n",
        "print(data[[\"ACT composite score\", \"SAT total score\", \"average_test_score\"]].head())\n",
        "\n",
        "data.to_csv(\"IntegrasiData.csv\", index=False)\n",
        "\n",
        "print(\"Data baru berhasil dibuat: IntegrasiData.csv\")"
      ]
    }
  ]
}