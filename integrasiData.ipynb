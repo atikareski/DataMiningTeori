{
  "nbformat": 4,
  "nbformat_minor": 0,
  "metadata": {
    "colab": {
      "provenance": [],
      "authorship_tag": "ABX9TyPaeGkH2DEYORp/367Aqj8F",
      "include_colab_link": true
    },
    "kernelspec": {
      "name": "python3",
      "display_name": "Python 3"
    },
    "language_info": {
      "name": "python"
    }
  },
  "cells": [
    {
      "cell_type": "markdown",
      "metadata": {
        "id": "view-in-github",
        "colab_type": "text"
      },
      "source": [
        "<a href=\"https://colab.research.google.com/github/atikareski/DataMiningTeori/blob/main/integrasiData.ipynb\" target=\"_parent\"><img src=\"https://colab.research.google.com/assets/colab-badge.svg\" alt=\"Open In Colab\"/></a>"
      ]
    },
    {
      "cell_type": "code",
      "execution_count": null,
      "metadata": {
        "id": "Ez1etLiBij7q"
      },
      "outputs": [],
      "source": [
        "import pandas as pd\n",
        "\n",
        "data = pd.read_csv(\"graduation_rate.csv\")\n",
        "\n",
        "data[\"average_test_score\"] = data[\"ACT composite score\"] + (data[\"SAT total score\"] / 400)\n",
        "\n",
        "print(data[[\"ACT composite score\", \"SAT total score\", \"average_test_score\"]].head())"
      ]
    }
  ]
}